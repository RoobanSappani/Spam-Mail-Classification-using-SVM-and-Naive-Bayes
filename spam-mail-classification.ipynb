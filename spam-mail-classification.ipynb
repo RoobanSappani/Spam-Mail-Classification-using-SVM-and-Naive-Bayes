{
 "cells": [
  {
   "cell_type": "markdown",
   "metadata": {
    "_cell_guid": "f169d7cf-818b-4815-a5be-76265e99d139",
    "_uuid": "25f02ffdb0d53b9663f351fa0c0f415d2bce15b1",
    "papermill": {
     "duration": 0.019794,
     "end_time": "2020-11-28T17:17:49.463650",
     "exception": false,
     "start_time": "2020-11-28T17:17:49.443856",
     "status": "completed"
    },
    "tags": []
   },
   "source": [
    "#  Spam Mail classification\n",
    "\n",
    "In this notebook I have implemented classifiers (Naive Bayes and Support Vector Machines) to detect spam mails."
   ]
  },
  {
   "cell_type": "markdown",
   "metadata": {
    "_cell_guid": "ba30922b-183b-4f2e-ac19-35ebc9dd865a",
    "_uuid": "e27ea858875f6d5698fcfb196b32160c8d761697",
    "papermill": {
     "duration": 0.01703,
     "end_time": "2020-11-28T17:17:49.498807",
     "exception": false,
     "start_time": "2020-11-28T17:17:49.481777",
     "status": "completed"
    },
    "tags": []
   },
   "source": [
    "## Necessary libraries"
   ]
  },
  {
   "cell_type": "code",
   "execution_count": 1,
   "metadata": {
    "_cell_guid": "77dbf249-4662-4faf-ae30-654f5f76f5b1",
    "_uuid": "5eb96b9e55cca9f7dbc74128cd5933856b39aa51",
    "execution": {
     "iopub.execute_input": "2020-11-28T17:17:49.542475Z",
     "iopub.status.busy": "2020-11-28T17:17:49.541570Z",
     "iopub.status.idle": "2020-11-28T17:17:52.456274Z",
     "shell.execute_reply": "2020-11-28T17:17:52.455611Z"
    },
    "papermill": {
     "duration": 2.94022,
     "end_time": "2020-11-28T17:17:52.456394",
     "exception": false,
     "start_time": "2020-11-28T17:17:49.516174",
     "status": "completed"
    },
    "tags": []
   },
   "outputs": [
    {
     "name": "stdout",
     "output_type": "stream",
     "text": [
      "[nltk_data] Downloading package wordnet to /usr/share/nltk_data...\n",
      "[nltk_data]   Package wordnet is already up-to-date!\n"
     ]
    }
   ],
   "source": [
    "import numpy as np\n",
    "import pandas as pd\n",
    "from collections import Counter\n",
    "\n",
    "import nltk\n",
    "nltk.download('wordnet')\n",
    "from nltk.stem import WordNetLemmatizer\n",
    "import string\n",
    "from sklearn.feature_extraction.text import TfidfVectorizer\n",
    "from sklearn.model_selection import train_test_split\n",
    "from sklearn.decomposition import PCA\n",
    "\n",
    "import matplotlib.pyplot as plt\n",
    "from scikitplot.metrics import plot_confusion_matrix as plt_con_mat\n",
    "import seaborn as sns\n",
    "\n",
    "from sklearn import feature_extraction, model_selection, naive_bayes, metrics, svm\n",
    "\n",
    "import warnings\n",
    "warnings.filterwarnings(\"ignore\")"
   ]
  },
  {
   "cell_type": "markdown",
   "metadata": {
    "_cell_guid": "ab7471a7-9fda-4dc9-ba8b-6d4f0c1b92e1",
    "_uuid": "2a11f84b23cf786579a3beb1074c6e7375456b77",
    "papermill": {
     "duration": 0.018719,
     "end_time": "2020-11-28T17:17:52.494280",
     "exception": false,
     "start_time": "2020-11-28T17:17:52.475561",
     "status": "completed"
    },
    "tags": []
   },
   "source": [
    "## Loading the Data"
   ]
  },
  {
   "cell_type": "code",
   "execution_count": 2,
   "metadata": {
    "_cell_guid": "e8604809-62b9-47bd-84fa-92063d8ae5b3",
    "_uuid": "3a9038c1ea6026f8ae89cf052aa71c89bcb940dd",
    "execution": {
     "iopub.execute_input": "2020-11-28T17:17:52.542742Z",
     "iopub.status.busy": "2020-11-28T17:17:52.538588Z",
     "iopub.status.idle": "2020-11-28T17:17:52.592792Z",
     "shell.execute_reply": "2020-11-28T17:17:52.592154Z"
    },
    "papermill": {
     "duration": 0.080949,
     "end_time": "2020-11-28T17:17:52.592909",
     "exception": false,
     "start_time": "2020-11-28T17:17:52.511960",
     "status": "completed"
    },
    "scrolled": true,
    "tags": []
   },
   "outputs": [
    {
     "data": {
      "text/html": [
       "<div>\n",
       "<style scoped>\n",
       "    .dataframe tbody tr th:only-of-type {\n",
       "        vertical-align: middle;\n",
       "    }\n",
       "\n",
       "    .dataframe tbody tr th {\n",
       "        vertical-align: top;\n",
       "    }\n",
       "\n",
       "    .dataframe thead th {\n",
       "        text-align: right;\n",
       "    }\n",
       "</style>\n",
       "<table border=\"1\" class=\"dataframe\">\n",
       "  <thead>\n",
       "    <tr style=\"text-align: right;\">\n",
       "      <th></th>\n",
       "      <th>v1</th>\n",
       "      <th>v2</th>\n",
       "      <th>Unnamed: 2</th>\n",
       "      <th>Unnamed: 3</th>\n",
       "      <th>Unnamed: 4</th>\n",
       "    </tr>\n",
       "  </thead>\n",
       "  <tbody>\n",
       "    <tr>\n",
       "      <th>0</th>\n",
       "      <td>ham</td>\n",
       "      <td>Go until jurong point, crazy.. Available only ...</td>\n",
       "      <td>NaN</td>\n",
       "      <td>NaN</td>\n",
       "      <td>NaN</td>\n",
       "    </tr>\n",
       "    <tr>\n",
       "      <th>1</th>\n",
       "      <td>ham</td>\n",
       "      <td>Ok lar... Joking wif u oni...</td>\n",
       "      <td>NaN</td>\n",
       "      <td>NaN</td>\n",
       "      <td>NaN</td>\n",
       "    </tr>\n",
       "    <tr>\n",
       "      <th>2</th>\n",
       "      <td>spam</td>\n",
       "      <td>Free entry in 2 a wkly comp to win FA Cup fina...</td>\n",
       "      <td>NaN</td>\n",
       "      <td>NaN</td>\n",
       "      <td>NaN</td>\n",
       "    </tr>\n",
       "    <tr>\n",
       "      <th>3</th>\n",
       "      <td>ham</td>\n",
       "      <td>U dun say so early hor... U c already then say...</td>\n",
       "      <td>NaN</td>\n",
       "      <td>NaN</td>\n",
       "      <td>NaN</td>\n",
       "    </tr>\n",
       "    <tr>\n",
       "      <th>4</th>\n",
       "      <td>ham</td>\n",
       "      <td>Nah I don't think he goes to usf, he lives aro...</td>\n",
       "      <td>NaN</td>\n",
       "      <td>NaN</td>\n",
       "      <td>NaN</td>\n",
       "    </tr>\n",
       "  </tbody>\n",
       "</table>\n",
       "</div>"
      ],
      "text/plain": [
       "     v1                                                 v2 Unnamed: 2  \\\n",
       "0   ham  Go until jurong point, crazy.. Available only ...        NaN   \n",
       "1   ham                      Ok lar... Joking wif u oni...        NaN   \n",
       "2  spam  Free entry in 2 a wkly comp to win FA Cup fina...        NaN   \n",
       "3   ham  U dun say so early hor... U c already then say...        NaN   \n",
       "4   ham  Nah I don't think he goes to usf, he lives aro...        NaN   \n",
       "\n",
       "  Unnamed: 3 Unnamed: 4  \n",
       "0        NaN        NaN  \n",
       "1        NaN        NaN  \n",
       "2        NaN        NaN  \n",
       "3        NaN        NaN  \n",
       "4        NaN        NaN  "
      ]
     },
     "execution_count": 2,
     "metadata": {},
     "output_type": "execute_result"
    }
   ],
   "source": [
    "data = pd.read_csv(\"../input/sms-spam-collection-dataset/spam.csv\", encoding='latin-1')\n",
    "data.head()"
   ]
  },
  {
   "cell_type": "markdown",
   "metadata": {
    "_cell_guid": "2ed76eea-004a-42a0-a1c9-c45c092bbb4b",
    "_uuid": "d71ec916875461c07bdb1f9d53d9b0a7210de035",
    "papermill": {
     "duration": 0.018502,
     "end_time": "2020-11-28T17:17:52.630302",
     "exception": false,
     "start_time": "2020-11-28T17:17:52.611800",
     "status": "completed"
    },
    "tags": []
   },
   "source": [
    "## Class distribution"
   ]
  },
  {
   "cell_type": "code",
   "execution_count": 3,
   "metadata": {
    "_cell_guid": "74f9cf41-4793-4be5-a46e-bdb93067e973",
    "_uuid": "99a4b831313c23573b7972c65637d01dd497c6fe",
    "execution": {
     "iopub.execute_input": "2020-11-28T17:17:52.676297Z",
     "iopub.status.busy": "2020-11-28T17:17:52.675594Z",
     "iopub.status.idle": "2020-11-28T17:17:52.903562Z",
     "shell.execute_reply": "2020-11-28T17:17:52.902802Z"
    },
    "papermill": {
     "duration": 0.254413,
     "end_time": "2020-11-28T17:17:52.903690",
     "exception": false,
     "start_time": "2020-11-28T17:17:52.649277",
     "status": "completed"
    },
    "scrolled": true,
    "tags": []
   },
   "outputs": [
    {
     "data": {
      "image/png": "[encoded data removed]",
      "text/plain": [
       "<Figure size 432x288 with 1 Axes>"
      ]
     },
     "metadata": {
      "needs_background": "light"
     },
     "output_type": "display_data"
    }
   ],
   "source": [
    "counts = pd.value_counts(data[\"v1\"])\n",
    "counts.plot(kind= 'bar', color= ['g', 'r'])\n",
    "plt.title('Ham/Spam')\n",
    "plt.show()"
   ]
  },
  {
   "cell_type": "markdown",
   "metadata": {
    "_cell_guid": "6887a2a9-6c4c-42f1-92df-fdec4ae3f9f0",
    "_uuid": "47d3122a6fe0ed51dbe5775c7549695cce2a8470",
    "papermill": {
     "duration": 0.028355,
     "end_time": "2020-11-28T17:17:52.960667",
     "exception": false,
     "start_time": "2020-11-28T17:17:52.932312",
     "status": "completed"
    },
    "tags": []
   },
   "source": [
    "## Text preprocessing and feature engineering"
   ]
  },
  {
   "cell_type": "code",
   "execution_count": 4,
   "metadata": {
    "_cell_guid": "653bfeae-e298-44e3-b92c-78c0f747b8ef",
    "_uuid": "67b9147f254e720b0641d9a171333942ef529aba",
    "execution": {
     "iopub.execute_input": "2020-11-28T17:17:53.028435Z",
     "iopub.status.busy": "2020-11-28T17:17:53.027534Z",
     "iopub.status.idle": "2020-11-28T17:17:55.696757Z",
     "shell.execute_reply": "2020-11-28T17:17:55.695820Z"
    },
    "papermill": {
     "duration": 2.707559,
     "end_time": "2020-11-28T17:17:55.696897",
     "exception": false,
     "start_time": "2020-11-28T17:17:52.989338",
     "status": "completed"
    },
    "tags": []
   },
   "outputs": [
    {
     "name": "stdout",
     "output_type": "stream",
     "text": [
      "(5572, 8679) (5572, 1)\n"
     ]
    }
   ],
   "source": [
    "clean_data = []\n",
    "\n",
    "Y = np.array(data[\"v1\"].map({'spam':1,'ham':0}))\n",
    "Y = np.expand_dims(Y, axis = -1)\n",
    "\n",
    "for doc in data[\"v2\"]:\n",
    "    \n",
    "    killpunctuation = str.maketrans('', '', string.punctuation)\n",
    "    lemmatizer = WordNetLemmatizer()\n",
    "    \n",
    "    text = doc.lower()\n",
    "    text = text.translate(killpunctuation)\n",
    "    text = text.split(' ')\n",
    "    text = [lemmatizer.lemmatize(word) for word in text]\n",
    "    text = (\" \".join(text))\n",
    "    clean_data.append(text)\n",
    "\n",
    "tfidf_vectorizer = TfidfVectorizer(stop_words='english')\n",
    "tfidf_vectors = tfidf_vectorizer.fit_transform(clean_data)\n",
    "X = tfidf_vectors.toarray()\n",
    "\n",
    "print(X.shape, Y.shape)"
   ]
  },
  {
   "cell_type": "markdown",
   "metadata": {
    "papermill": {
     "duration": 0.029182,
     "end_time": "2020-11-28T17:17:55.756066",
     "exception": false,
     "start_time": "2020-11-28T17:17:55.726884",
     "status": "completed"
    },
    "tags": []
   },
   "source": [
    "## Splitting the Data into train and test sets"
   ]
  },
  {
   "cell_type": "code",
   "execution_count": 5,
   "metadata": {
    "_cell_guid": "e5e2bee3-cdad-4ee6-9c59-f3a536195ed7",
    "_uuid": "ab65abc5fe63168bfea503db8e58e5ab03383a22",
    "execution": {
     "iopub.execute_input": "2020-11-28T17:17:55.821874Z",
     "iopub.status.busy": "2020-11-28T17:17:55.820943Z",
     "iopub.status.idle": "2020-11-28T17:17:55.948829Z",
     "shell.execute_reply": "2020-11-28T17:17:55.948146Z"
    },
    "papermill": {
     "duration": 0.163661,
     "end_time": "2020-11-28T17:17:55.948944",
     "exception": false,
     "start_time": "2020-11-28T17:17:55.785283",
     "status": "completed"
    },
    "tags": []
   },
   "outputs": [
    {
     "name": "stdout",
     "output_type": "stream",
     "text": [
      "(4457, 8679) (4457, 1)\n",
      "(1115, 8679) (1115, 1)\n"
     ]
    }
   ],
   "source": [
    "X_train, X_test, y_train, y_test = train_test_split(X, Y, shuffle = True, test_size = 0.2, random_state = 1)\n",
    "\n",
    "print(X_train.shape, y_train.shape)\n",
    "print(X_test.shape, y_test.shape)"
   ]
  },
  {
   "cell_type": "markdown",
   "metadata": {
    "_cell_guid": "76cc3deb-7b7c-4511-ae4e-ef5cd2f7592b",
    "_uuid": "0463069f7287a20571ab90885b85dad8d9a64368",
    "papermill": {
     "duration": 0.019447,
     "end_time": "2020-11-28T17:17:55.988494",
     "exception": false,
     "start_time": "2020-11-28T17:17:55.969047",
     "status": "completed"
    },
    "tags": []
   },
   "source": [
    "# Multinomial naive bayes classifier"
   ]
  },
  {
   "cell_type": "code",
   "execution_count": 6,
   "metadata": {
    "_cell_guid": "e7b5bbc6-23cb-49f8-8ea3-83f71c9f6d97",
    "_uuid": "4bf729b41f966730729d72d6b61e287ab426bd39",
    "execution": {
     "iopub.execute_input": "2020-11-28T17:17:56.040779Z",
     "iopub.status.busy": "2020-11-28T17:17:56.040000Z",
     "iopub.status.idle": "2020-11-28T17:20:09.113182Z",
     "shell.execute_reply": "2020-11-28T17:20:09.113885Z"
    },
    "papermill": {
     "duration": 133.105692,
     "end_time": "2020-11-28T17:20:09.114055",
     "exception": false,
     "start_time": "2020-11-28T17:17:56.008363",
     "status": "completed"
    },
    "tags": []
   },
   "outputs": [
    {
     "name": "stdout",
     "output_type": "stream",
     "text": [
      "Training complete\n"
     ]
    }
   ],
   "source": [
    "alphas = np.arange(1/100000, 1, 0.001)\n",
    "train_acc = []\n",
    "test_acc = []\n",
    "recall = []\n",
    "precision = []\n",
    "\n",
    "for alpha in alphas:\n",
    "    \n",
    "    bayes = naive_bayes.MultinomialNB(alpha = alpha)\n",
    "    bayes.fit(X_train, y_train)\n",
    "    \n",
    "    train_acc.append(bayes.score(X_train, y_train))\n",
    "    test_acc.append(bayes.score(X_test, y_test))\n",
    "    recall.append(metrics.recall_score(y_test, bayes.predict(X_test)))\n",
    "    precision.append(metrics.precision_score(y_test, bayes.predict(X_test)))\n",
    "    \n",
    "print(\"Training complete\")"
   ]
  },
  {
   "cell_type": "markdown",
   "metadata": {
    "papermill": {
     "duration": 0.021202,
     "end_time": "2020-11-28T17:20:09.156537",
     "exception": false,
     "start_time": "2020-11-28T17:20:09.135335",
     "status": "completed"
    },
    "tags": []
   },
   "source": [
    "## Model training performance"
   ]
  },
  {
   "cell_type": "code",
   "execution_count": 7,
   "metadata": {
    "execution": {
     "iopub.execute_input": "2020-11-28T17:20:09.215363Z",
     "iopub.status.busy": "2020-11-28T17:20:09.214525Z",
     "iopub.status.idle": "2020-11-28T17:20:10.348521Z",
     "shell.execute_reply": "2020-11-28T17:20:10.347611Z"
    },
    "papermill": {
     "duration": 1.170095,
     "end_time": "2020-11-28T17:20:10.348663",
     "exception": false,
     "start_time": "2020-11-28T17:20:09.178568",
     "status": "completed"
    },
    "tags": []
   },
   "outputs": [
    {
     "data": {
      "image/png": "[encoded data removed]",
      "text/plain": [
       "<Figure size 864x288 with 2 Axes>"
      ]
     },
     "metadata": {},
     "output_type": "display_data"
    }
   ],
   "source": [
    "sns.set()\n",
    "fig = plt.figure(0, (12, 4))\n",
    "\n",
    "ax = plt.subplot(1, 2, 1)\n",
    "sns.lineplot(alphas, train_acc, label = 'train')\n",
    "sns.lineplot(alphas, test_acc, label = 'test')\n",
    "plt.title('Accuracy')\n",
    "plt.tight_layout()\n",
    "\n",
    "ax = plt.subplot(1, 2, 2)\n",
    "sns.lineplot(alphas, precision, label = 'precision')\n",
    "sns.lineplot(alphas, recall, label = 'recall')\n",
    "plt.title('Precision and Recall')\n",
    "plt.tight_layout()\n",
    "\n",
    "plt.show()"
   ]
  },
  {
   "cell_type": "code",
   "execution_count": 8,
   "metadata": {
    "_cell_guid": "9bb5c44b-9d9b-4f79-8462-324eb3addcad",
    "_uuid": "b38a2e021e3b5898e0883ee95165457af85f954b",
    "execution": {
     "iopub.execute_input": "2020-11-28T17:20:10.428522Z",
     "iopub.status.busy": "2020-11-28T17:20:10.427841Z",
     "iopub.status.idle": "2020-11-28T17:20:10.433568Z",
     "shell.execute_reply": "2020-11-28T17:20:10.432994Z"
    },
    "papermill": {
     "duration": 0.052331,
     "end_time": "2020-11-28T17:20:10.433675",
     "exception": false,
     "start_time": "2020-11-28T17:20:10.381344",
     "status": "completed"
    },
    "tags": []
   },
   "outputs": [
    {
     "data": {
      "text/html": [
       "<div>\n",
       "<style scoped>\n",
       "    .dataframe tbody tr th:only-of-type {\n",
       "        vertical-align: middle;\n",
       "    }\n",
       "\n",
       "    .dataframe tbody tr th {\n",
       "        vertical-align: top;\n",
       "    }\n",
       "\n",
       "    .dataframe thead th {\n",
       "        text-align: right;\n",
       "    }\n",
       "</style>\n",
       "<table border=\"1\" class=\"dataframe\">\n",
       "  <thead>\n",
       "    <tr style=\"text-align: right;\">\n",
       "      <th></th>\n",
       "      <th>alphas</th>\n",
       "      <th>Train Accuracy</th>\n",
       "      <th>Test Accuracy</th>\n",
       "      <th>Test Recall</th>\n",
       "      <th>Test Precision</th>\n",
       "    </tr>\n",
       "  </thead>\n",
       "  <tbody>\n",
       "    <tr>\n",
       "      <th>0</th>\n",
       "      <td>0.00001</td>\n",
       "      <td>0.999103</td>\n",
       "      <td>0.977578</td>\n",
       "      <td>0.928058</td>\n",
       "      <td>0.895833</td>\n",
       "    </tr>\n",
       "    <tr>\n",
       "      <th>1</th>\n",
       "      <td>0.00101</td>\n",
       "      <td>0.998878</td>\n",
       "      <td>0.974888</td>\n",
       "      <td>0.928058</td>\n",
       "      <td>0.877551</td>\n",
       "    </tr>\n",
       "    <tr>\n",
       "      <th>2</th>\n",
       "      <td>0.00201</td>\n",
       "      <td>0.998878</td>\n",
       "      <td>0.973094</td>\n",
       "      <td>0.928058</td>\n",
       "      <td>0.865772</td>\n",
       "    </tr>\n",
       "    <tr>\n",
       "      <th>3</th>\n",
       "      <td>0.00301</td>\n",
       "      <td>0.998878</td>\n",
       "      <td>0.974888</td>\n",
       "      <td>0.935252</td>\n",
       "      <td>0.872483</td>\n",
       "    </tr>\n",
       "    <tr>\n",
       "      <th>4</th>\n",
       "      <td>0.00401</td>\n",
       "      <td>0.998878</td>\n",
       "      <td>0.974888</td>\n",
       "      <td>0.935252</td>\n",
       "      <td>0.872483</td>\n",
       "    </tr>\n",
       "  </tbody>\n",
       "</table>\n",
       "</div>"
      ],
      "text/plain": [
       "    alphas  Train Accuracy  Test Accuracy  Test Recall  Test Precision\n",
       "0  0.00001        0.999103       0.977578     0.928058        0.895833\n",
       "1  0.00101        0.998878       0.974888     0.928058        0.877551\n",
       "2  0.00201        0.998878       0.973094     0.928058        0.865772\n",
       "3  0.00301        0.998878       0.974888     0.935252        0.872483\n",
       "4  0.00401        0.998878       0.974888     0.935252        0.872483"
      ]
     },
     "execution_count": 8,
     "metadata": {},
     "output_type": "execute_result"
    }
   ],
   "source": [
    "temp = np.matrix(np.c_[alphas, train_acc, test_acc, recall, precision])\n",
    "nb_model_metrics = pd.DataFrame(data = temp, \n",
    "                      columns = ['alphas', 'Train Accuracy', 'Test Accuracy', 'Test Recall', 'Test Precision'])\n",
    "nb_model_metrics.head()"
   ]
  },
  {
   "cell_type": "markdown",
   "metadata": {
    "papermill": {
     "duration": 0.022279,
     "end_time": "2020-11-28T17:20:10.478704",
     "exception": false,
     "start_time": "2020-11-28T17:20:10.456425",
     "status": "completed"
    },
    "tags": []
   },
   "source": [
    "## Chossing the best model according to precision and accuracy"
   ]
  },
  {
   "cell_type": "code",
   "execution_count": 9,
   "metadata": {
    "_cell_guid": "1dd94a26-7252-4fcd-ad18-7d755ab20ab7",
    "_uuid": "d74e1e4cebee52716b5bf9e9aa72efa147f43f93",
    "execution": {
     "iopub.execute_input": "2020-11-28T17:20:10.533126Z",
     "iopub.status.busy": "2020-11-28T17:20:10.532241Z",
     "iopub.status.idle": "2020-11-28T17:20:10.598384Z",
     "shell.execute_reply": "2020-11-28T17:20:10.597784Z"
    },
    "papermill": {
     "duration": 0.096945,
     "end_time": "2020-11-28T17:20:10.598499",
     "exception": false,
     "start_time": "2020-11-28T17:20:10.501554",
     "status": "completed"
    },
    "tags": []
   },
   "outputs": [
    {
     "name": "stdout",
     "output_type": "stream",
     "text": [
      "alphas            0.949010\n",
      "Train Accuracy    0.979134\n",
      "Test Accuracy     0.975785\n",
      "Test Recall       0.805755\n",
      "Test Precision    1.000000\n",
      "Name: 949, dtype: float64\n"
     ]
    }
   ],
   "source": [
    "idx = nb_model_metrics[nb_model_metrics['Test Precision'] == nb_model_metrics['Test Precision'].max()]['Test Accuracy'].idxmax()\n",
    "nb_model = naive_bayes.MultinomialNB(alpha = alphas[idx])\n",
    "nb_model.fit(X_train, y_train)\n",
    "print(nb_model_metrics.iloc[idx, :])"
   ]
  },
  {
   "cell_type": "markdown",
   "metadata": {
    "papermill": {
     "duration": 0.022873,
     "end_time": "2020-11-28T17:20:10.644564",
     "exception": false,
     "start_time": "2020-11-28T17:20:10.621691",
     "status": "completed"
    },
    "tags": []
   },
   "source": [
    "## Confusion matrix"
   ]
  },
  {
   "cell_type": "code",
   "execution_count": 10,
   "metadata": {
    "_cell_guid": "076b7447-5c33-4671-8b25-7000e0c3a28f",
    "_uuid": "a700b298131b18e8ec21a67959df4a71c1177a54",
    "execution": {
     "iopub.execute_input": "2020-11-28T17:20:10.697432Z",
     "iopub.status.busy": "2020-11-28T17:20:10.696451Z",
     "iopub.status.idle": "2020-11-28T17:20:10.937794Z",
     "shell.execute_reply": "2020-11-28T17:20:10.938471Z"
    },
    "papermill": {
     "duration": 0.270638,
     "end_time": "2020-11-28T17:20:10.938642",
     "exception": false,
     "start_time": "2020-11-28T17:20:10.668004",
     "status": "completed"
    },
    "tags": []
   },
   "outputs": [
    {
     "data": {
      "image/png": "[encoded data removed]",
      "text/plain": [
       "<Figure size 720x720 with 2 Axes>"
      ]
     },
     "metadata": {},
     "output_type": "display_data"
    }
   ],
   "source": [
    "preds = nb_model.predict(X_test)\n",
    "\n",
    "plt_con_mat(y_test, preds, figsize=(10,10))\n",
    "plt.show()"
   ]
  },
  {
   "cell_type": "markdown",
   "metadata": {
    "_cell_guid": "edfcb798-4f74-4552-8bea-2617804eea56",
    "_uuid": "63efdf82c6e3aeabf14cc906cec456ba6f6a6ac0",
    "papermill": {
     "duration": 0.034936,
     "end_time": "2020-11-28T17:20:11.008758",
     "exception": false,
     "start_time": "2020-11-28T17:20:10.973822",
     "status": "completed"
    },
    "tags": []
   },
   "source": [
    "# Support Vector Machine (SVM)"
   ]
  },
  {
   "cell_type": "code",
   "execution_count": 11,
   "metadata": {
    "_cell_guid": "f82fc85a-e883-42d1-abbc-c3b3342247dc",
    "_uuid": "1101b49ede4dccec53089e86f3db2969abea67ee",
    "execution": {
     "iopub.execute_input": "2020-11-28T17:20:11.089751Z",
     "iopub.status.busy": "2020-11-28T17:20:11.088716Z",
     "iopub.status.idle": "2020-11-28T17:20:17.285025Z",
     "shell.execute_reply": "2020-11-28T17:20:17.284335Z"
    },
    "papermill": {
     "duration": 6.240881,
     "end_time": "2020-11-28T17:20:17.285167",
     "exception": false,
     "start_time": "2020-11-28T17:20:11.044286",
     "status": "completed"
    },
    "tags": []
   },
   "outputs": [
    {
     "name": "stdout",
     "output_type": "stream",
     "text": [
      "Training complete\n"
     ]
    }
   ],
   "source": [
    "C_vals = np.arange(500, 2000, 100)\n",
    "train_acc = []\n",
    "test_acc = []\n",
    "recall = []\n",
    "precision = []\n",
    "\n",
    "for C in C_vals:\n",
    "    \n",
    "    svc = svm.LinearSVC(C = C)\n",
    "    svc.fit(X_train, y_train)\n",
    "    \n",
    "    train_acc.append(svc.score(X_train, y_train))\n",
    "    test_acc.append(svc.score(X_test, y_test))\n",
    "    recall.append(metrics.recall_score(y_test, svc.predict(X_test)))\n",
    "    precision.append(metrics.precision_score(y_test, svc.predict(X_test)))\n",
    "\n",
    "print(\"Training complete\")"
   ]
  },
  {
   "cell_type": "markdown",
   "metadata": {
    "papermill": {
     "duration": 0.024929,
     "end_time": "2020-11-28T17:20:17.335385",
     "exception": false,
     "start_time": "2020-11-28T17:20:17.310456",
     "status": "completed"
    },
    "tags": []
   },
   "source": [
    "## Model training performance"
   ]
  },
  {
   "cell_type": "code",
   "execution_count": 12,
   "metadata": {
    "execution": {
     "iopub.execute_input": "2020-11-28T17:20:17.415228Z",
     "iopub.status.busy": "2020-11-28T17:20:17.404731Z",
     "iopub.status.idle": "2020-11-28T17:20:18.393969Z",
     "shell.execute_reply": "2020-11-28T17:20:18.394656Z"
    },
    "papermill": {
     "duration": 1.033873,
     "end_time": "2020-11-28T17:20:18.394843",
     "exception": false,
     "start_time": "2020-11-28T17:20:17.360970",
     "status": "completed"
    },
    "tags": []
   },
   "outputs": [
    {
     "data": {
      "image/png": "[encoded data removed]",
      "text/plain": [
       "<Figure size 864x288 with 2 Axes>"
      ]
     },
     "metadata": {},
     "output_type": "display_data"
    }
   ],
   "source": [
    "sns.set()\n",
    "fig = plt.figure(0, (12, 4))\n",
    "\n",
    "ax = plt.subplot(1, 2, 1)\n",
    "sns.lineplot(C_vals, train_acc, label = 'train')\n",
    "sns.lineplot(C_vals, test_acc, label = 'test')\n",
    "plt.title('Accuracy')\n",
    "plt.tight_layout()\n",
    "\n",
    "ax = plt.subplot(1, 2, 2)\n",
    "sns.lineplot(C_vals, precision, label = 'precision')\n",
    "sns.lineplot(C_vals, recall, label = 'recall')\n",
    "plt.title('Precision and Recall')\n",
    "plt.tight_layout()\n",
    "\n",
    "plt.show()"
   ]
  },
  {
   "cell_type": "code",
   "execution_count": 13,
   "metadata": {
    "_cell_guid": "4da69237-fe8c-40ac-a72a-d33dc7863859",
    "_uuid": "ec36f5defc3f1477cca07c5280818ee4282995d9",
    "execution": {
     "iopub.execute_input": "2020-11-28T17:20:18.491241Z",
     "iopub.status.busy": "2020-11-28T17:20:18.490164Z",
     "iopub.status.idle": "2020-11-28T17:20:18.495899Z",
     "shell.execute_reply": "2020-11-28T17:20:18.495157Z"
    },
    "papermill": {
     "duration": 0.063288,
     "end_time": "2020-11-28T17:20:18.496037",
     "exception": false,
     "start_time": "2020-11-28T17:20:18.432749",
     "status": "completed"
    },
    "tags": []
   },
   "outputs": [
    {
     "data": {
      "text/html": [
       "<div>\n",
       "<style scoped>\n",
       "    .dataframe tbody tr th:only-of-type {\n",
       "        vertical-align: middle;\n",
       "    }\n",
       "\n",
       "    .dataframe tbody tr th {\n",
       "        vertical-align: top;\n",
       "    }\n",
       "\n",
       "    .dataframe thead th {\n",
       "        text-align: right;\n",
       "    }\n",
       "</style>\n",
       "<table border=\"1\" class=\"dataframe\">\n",
       "  <thead>\n",
       "    <tr style=\"text-align: right;\">\n",
       "      <th></th>\n",
       "      <th>C values</th>\n",
       "      <th>Train Accuracy</th>\n",
       "      <th>Test Accuracy</th>\n",
       "      <th>Test Recall</th>\n",
       "      <th>Test Precision</th>\n",
       "    </tr>\n",
       "  </thead>\n",
       "  <tbody>\n",
       "    <tr>\n",
       "      <th>0</th>\n",
       "      <td>500.0</td>\n",
       "      <td>1.0</td>\n",
       "      <td>0.987444</td>\n",
       "      <td>0.899281</td>\n",
       "      <td>1.0</td>\n",
       "    </tr>\n",
       "    <tr>\n",
       "      <th>1</th>\n",
       "      <td>600.0</td>\n",
       "      <td>1.0</td>\n",
       "      <td>0.987444</td>\n",
       "      <td>0.899281</td>\n",
       "      <td>1.0</td>\n",
       "    </tr>\n",
       "    <tr>\n",
       "      <th>2</th>\n",
       "      <td>700.0</td>\n",
       "      <td>1.0</td>\n",
       "      <td>0.987444</td>\n",
       "      <td>0.899281</td>\n",
       "      <td>1.0</td>\n",
       "    </tr>\n",
       "    <tr>\n",
       "      <th>3</th>\n",
       "      <td>800.0</td>\n",
       "      <td>1.0</td>\n",
       "      <td>0.987444</td>\n",
       "      <td>0.899281</td>\n",
       "      <td>1.0</td>\n",
       "    </tr>\n",
       "    <tr>\n",
       "      <th>4</th>\n",
       "      <td>900.0</td>\n",
       "      <td>1.0</td>\n",
       "      <td>0.987444</td>\n",
       "      <td>0.899281</td>\n",
       "      <td>1.0</td>\n",
       "    </tr>\n",
       "  </tbody>\n",
       "</table>\n",
       "</div>"
      ],
      "text/plain": [
       "   C values  Train Accuracy  Test Accuracy  Test Recall  Test Precision\n",
       "0     500.0             1.0       0.987444     0.899281             1.0\n",
       "1     600.0             1.0       0.987444     0.899281             1.0\n",
       "2     700.0             1.0       0.987444     0.899281             1.0\n",
       "3     800.0             1.0       0.987444     0.899281             1.0\n",
       "4     900.0             1.0       0.987444     0.899281             1.0"
      ]
     },
     "execution_count": 13,
     "metadata": {},
     "output_type": "execute_result"
    }
   ],
   "source": [
    "temp = np.matrix(np.c_[C_vals, train_acc, test_acc, recall, precision])\n",
    "svm_model_metrics = pd.DataFrame(data = temp, \n",
    "                                 columns = ['C values', 'Train Accuracy', 'Test Accuracy', 'Test Recall', 'Test Precision'])\n",
    "svm_model_metrics.head()"
   ]
  },
  {
   "cell_type": "markdown",
   "metadata": {
    "papermill": {
     "duration": 0.039467,
     "end_time": "2020-11-28T17:20:18.573835",
     "exception": false,
     "start_time": "2020-11-28T17:20:18.534368",
     "status": "completed"
    },
    "tags": []
   },
   "source": [
    "## Choosing the best model"
   ]
  },
  {
   "cell_type": "code",
   "execution_count": 14,
   "metadata": {
    "_cell_guid": "49e4103a-3be1-4feb-bec4-d8baa5255a0b",
    "_uuid": "d7d6eb9f249d10c19d4b9332c794476973dcf33f",
    "execution": {
     "iopub.execute_input": "2020-11-28T17:20:18.661852Z",
     "iopub.status.busy": "2020-11-28T17:20:18.661181Z",
     "iopub.status.idle": "2020-11-28T17:20:19.396179Z",
     "shell.execute_reply": "2020-11-28T17:20:19.395374Z"
    },
    "papermill": {
     "duration": 0.78353,
     "end_time": "2020-11-28T17:20:19.396329",
     "exception": false,
     "start_time": "2020-11-28T17:20:18.612799",
     "status": "completed"
    },
    "tags": []
   },
   "outputs": [
    {
     "name": "stdout",
     "output_type": "stream",
     "text": [
      "C values          500.000000\n",
      "Train Accuracy      1.000000\n",
      "Test Accuracy       0.987444\n",
      "Test Recall         0.899281\n",
      "Test Precision      1.000000\n",
      "Name: 0, dtype: float64\n"
     ]
    }
   ],
   "source": [
    "idx = svm_model_metrics[svm_model_metrics['Test Precision'] == svm_model_metrics['Test Precision'].max()]['Test Accuracy'].idxmax()\n",
    "svm_model = svm.LinearSVC(C = C_vals[idx])\n",
    "svm_model.fit(X_train, y_train)\n",
    "print(svm_model_metrics.iloc[idx, :])"
   ]
  },
  {
   "cell_type": "markdown",
   "metadata": {
    "papermill": {
     "duration": 0.039785,
     "end_time": "2020-11-28T17:20:19.476218",
     "exception": false,
     "start_time": "2020-11-28T17:20:19.436433",
     "status": "completed"
    },
    "tags": []
   },
   "source": [
    "## Confusion Matrix"
   ]
  },
  {
   "cell_type": "code",
   "execution_count": 15,
   "metadata": {
    "_cell_guid": "bf03b698-42e2-407f-a3da-dcc4acc36221",
    "_uuid": "77005bd9a0fd6de323ada9206468c0598fa9c476",
    "execution": {
     "iopub.execute_input": "2020-11-28T17:20:19.563650Z",
     "iopub.status.busy": "2020-11-28T17:20:19.562979Z",
     "iopub.status.idle": "2020-11-28T17:20:19.843904Z",
     "shell.execute_reply": "2020-11-28T17:20:19.843388Z"
    },
    "papermill": {
     "duration": 0.328051,
     "end_time": "2020-11-28T17:20:19.844014",
     "exception": false,
     "start_time": "2020-11-28T17:20:19.515963",
     "status": "completed"
    },
    "tags": []
   },
   "outputs": [
    {
     "data": {
      "image/png": "[encoded data removed]",
      "text/plain": [
       "<Figure size 720x720 with 2 Axes>"
      ]
     },
     "metadata": {},
     "output_type": "display_data"
    }
   ],
   "source": [
    "preds = svm_model.predict(X_test)\n",
    "\n",
    "plt_con_mat(y_test, preds, figsize=(10,10))\n",
    "plt.show()"
   ]
  }
 ],
 "metadata": {
  "kernelspec": {
   "display_name": "Python 3",
   "language": "python",
   "name": "python3"
  },
  "language_info": {
   "codemirror_mode": {
    "name": "ipython",
    "version": 3
   },
   "file_extension": ".py",
   "mimetype": "text/x-python",
   "name": "python",
   "nbconvert_exporter": "python",
   "pygments_lexer": "ipython3",
   "version": "3.7.6"
  },
  "papermill": {
   "duration": 155.69315,
   "end_time": "2020-11-28T17:20:19.979918",
   "environment_variables": {},
   "exception": null,
   "input_path": "__notebook__.ipynb",
   "output_path": "__notebook__.ipynb",
   "parameters": {},
   "start_time": "2020-11-28T17:17:44.286768",
   "version": "2.1.0"
  }
 },
 "nbformat": 4,
 "nbformat_minor": 4
}
